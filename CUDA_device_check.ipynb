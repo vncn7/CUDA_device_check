{
 "cells": [
  {
   "cell_type": "code",
   "execution_count": 1,
   "metadata": {},
   "outputs": [],
   "source": [
    "import torch\n",
    "import time"
   ]
  },
  {
   "cell_type": "code",
   "execution_count": 2,
   "metadata": {},
   "outputs": [
    {
     "name": "stdout",
     "output_type": "stream",
     "text": [
      "cuda:0\n"
     ]
    }
   ],
   "source": [
    "# Create a tensor\n",
    "x = torch.tensor([1.0, 2.0, 3.0])\n",
    "\n",
    "# Move the tensor to GPU if available\n",
    "if torch.cuda.is_available():\n",
    "    x = x.to('cuda')\n",
    "\n",
    "# Print tensor's device\n",
    "print(x.device)\n"
   ]
  },
  {
   "cell_type": "code",
   "execution_count": 3,
   "metadata": {},
   "outputs": [
    {
     "name": "stdout",
     "output_type": "stream",
     "text": [
      "Time on CPU: 0.01300120 seconds\n",
      "Time on GPU: 0.00100112 seconds\n"
     ]
    }
   ],
   "source": [
    "def measure_time(device):\n",
    "    x = torch.randn(1000, 1000, device=device)\n",
    "    y = torch.randn(1000, 1000, device=device)\n",
    "    torch.cuda.synchronize()  # Synchronize for accurate timing on GPU\n",
    "    start = time.time()\n",
    "    z = torch.mm(x, y)\n",
    "    torch.cuda.synchronize()  # Synchronize to ensure the operation is complete\n",
    "    end = time.time()\n",
    "    return end - start\n",
    "\n",
    "# Warmup GPU\n",
    "if torch.cuda.is_available():\n",
    "    measure_time('cuda')\n",
    "\n",
    "# Measure time on CPU\n",
    "cpu_time = measure_time('cpu')\n",
    "print(f\"Time on CPU: {cpu_time:.8f} seconds\")\n",
    "\n",
    "# Measure time on GPU\n",
    "if torch.cuda.is_available():\n",
    "    gpu_time = measure_time('cuda')\n",
    "    print(f\"Time on GPU: {gpu_time:.8f} seconds\")"
   ]
  },
  {
   "cell_type": "code",
   "execution_count": 4,
   "metadata": {},
   "outputs": [
    {
     "name": "stdout",
     "output_type": "stream",
     "text": [
      "Using device: cuda\n",
      "\n",
      "NVIDIA GeForce RTX 4080\n",
      "Memory Usage:\n",
      "Allocated: 0.0 GB\n",
      "Cached:    0.0 GB\n",
      "Memory Usage After Tensor Allocation:\n",
      "Allocated: 0.3 GB\n",
      "Cached:    0.3 GB\n"
     ]
    }
   ],
   "source": [
    "# setting device on GPU if available, else CPU\n",
    "device = torch.device('cuda' if torch.cuda.is_available() else 'cpu')\n",
    "print('Using device:', device)\n",
    "print()\n",
    "\n",
    "\n",
    "#Additional Info when using cuda\n",
    "if device.type == 'cuda':\n",
    "    print(torch.cuda.get_device_name(0))\n",
    "    print('Memory Usage:')\n",
    "    print('Allocated:', round(torch.cuda.memory_allocated(0)/1024**3,1), 'GB')\n",
    "    print('Cached:   ', round(torch.cuda.memory_reserved(0)/1024**3,1), 'GB')\n",
    "\n",
    "    # Example of tensor moved to GPU\n",
    "x = torch.randn(9000, 9000).to(device)  # Move a tensor to the GPU\n",
    "\n",
    "# Check memory usage again\n",
    "if device.type == 'cuda':\n",
    "    print('Memory Usage After Tensor Allocation:')\n",
    "    print('Allocated:', round(torch.cuda.memory_allocated(0)/1024**3,1), 'GB')\n",
    "    print('Cached:   ', round(torch.cuda.memory_reserved(0)/1024**3,1), 'GB')\n",
    "\n",
    "torch.cuda.empty_cache()"
   ]
  }
 ],
 "metadata": {
  "kernelspec": {
   "display_name": "Python 3",
   "language": "python",
   "name": "python3"
  },
  "language_info": {
   "codemirror_mode": {
    "name": "ipython",
    "version": 3
   },
   "file_extension": ".py",
   "mimetype": "text/x-python",
   "name": "python",
   "nbconvert_exporter": "python",
   "pygments_lexer": "ipython3",
   "version": "3.12.4"
  }
 },
 "nbformat": 4,
 "nbformat_minor": 2
}
